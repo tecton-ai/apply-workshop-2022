{
 "cells": [
  {
   "cell_type": "markdown",
   "metadata": {},
   "source": [
    "# Online Inference with TabNet"
   ]
  },
  {
   "cell_type": "code",
   "execution_count": 6,
   "metadata": {},
   "outputs": [],
   "source": [
    "import base64\n",
    "import json\n",
    "import pandas as pd\n",
    "import pickle\n",
    "\n",
    "from urllib3 import HTTPConnectionPool, HTTPSConnectionPool"
   ]
  },
  {
   "cell_type": "markdown",
   "metadata": {},
   "source": [
    "## Calling our Model Endpoint"
   ]
  },
  {
   "cell_type": "code",
   "execution_count": 7,
   "metadata": {},
   "outputs": [],
   "source": [
    "prediction_conn_pool = HTTPConnectionPool(\"localhost:5002\")\n",
    "prediction_headers = {\"Content-Type\": \"application/json\"}\n",
    "def get_predictions(df):\n",
    "    dfs = pickle.dumps(df)\n",
    "    dfs = base64.b64encode(dfs).decode(\"utf-8\")\n",
    "    r = prediction_conn_pool.request(\n",
    "        \"POST\",\n",
    "        url=\"/predict/\",\n",
    "        headers=prediction_headers,\n",
    "        body=json.dumps({\"df\": dfs}),\n",
    "    )\n",
    "    return json.loads(r.data.decode(\"utf-8\"))"
   ]
  },
  {
   "cell_type": "markdown",
   "metadata": {},
   "source": [
    "## Load some sample features"
   ]
  },
  {
   "cell_type": "code",
   "execution_count": 8,
   "metadata": {},
   "outputs": [
    {
     "data": {
      "text/html": [
       "<div>\n",
       "<style scoped>\n",
       "    .dataframe tbody tr th:only-of-type {\n",
       "        vertical-align: middle;\n",
       "    }\n",
       "\n",
       "    .dataframe tbody tr th {\n",
       "        vertical-align: top;\n",
       "    }\n",
       "\n",
       "    .dataframe thead th {\n",
       "        text-align: right;\n",
       "    }\n",
       "</style>\n",
       "<table border=\"1\" class=\"dataframe\">\n",
       "  <thead>\n",
       "    <tr style=\"text-align: right;\">\n",
       "      <th></th>\n",
       "      <th>USER_ID</th>\n",
       "      <th>MOVIE_ID</th>\n",
       "      <th>MOVIE_GENRE_INFO__IS_ACTION</th>\n",
       "      <th>MOVIE_GENRE_INFO__IS_ADVENTURE</th>\n",
       "      <th>MOVIE_GENRE_INFO__IS_ANIMATION</th>\n",
       "      <th>MOVIE_GENRE_INFO__IS_CHILDREN</th>\n",
       "      <th>MOVIE_GENRE_INFO__IS_COMEDY</th>\n",
       "      <th>MOVIE_GENRE_INFO__IS_CRIME</th>\n",
       "      <th>MOVIE_GENRE_INFO__IS_DOCUMENTARY</th>\n",
       "      <th>MOVIE_GENRE_INFO__IS_DRAMA</th>\n",
       "      <th>...</th>\n",
       "      <th>USER_FANTASY_RATING_HISTORY__RATING_MEAN_730D_1D</th>\n",
       "      <th>USER_FILM_NOIR_RATING_HISTORY__RATING_MEAN_730D_1D</th>\n",
       "      <th>USER_HORROR_RATING_HISTORY__RATING_MEAN_730D_1D</th>\n",
       "      <th>USER_MUSICAL_RATING_HISTORY__RATING_MEAN_730D_1D</th>\n",
       "      <th>USER_MYSTERY_RATING_HISTORY__RATING_MEAN_730D_1D</th>\n",
       "      <th>USER_ROMANCE_RATING_HISTORY__RATING_MEAN_730D_1D</th>\n",
       "      <th>USER_SCI_FI_RATING_HISTORY__RATING_MEAN_730D_1D</th>\n",
       "      <th>USER_THRILLER_RATING_HISTORY__RATING_MEAN_730D_1D</th>\n",
       "      <th>USER_WAR_RATING_HISTORY__RATING_MEAN_730D_1D</th>\n",
       "      <th>USER_WESTERN_RATING_HISTORY__RATING_MEAN_730D_1D</th>\n",
       "    </tr>\n",
       "  </thead>\n",
       "  <tbody>\n",
       "    <tr>\n",
       "      <th>0</th>\n",
       "      <td>102329</td>\n",
       "      <td>3114</td>\n",
       "      <td>0</td>\n",
       "      <td>1</td>\n",
       "      <td>1</td>\n",
       "      <td>1</td>\n",
       "      <td>1</td>\n",
       "      <td>0</td>\n",
       "      <td>0</td>\n",
       "      <td>0</td>\n",
       "      <td>...</td>\n",
       "      <td>3.714286</td>\n",
       "      <td>NaN</td>\n",
       "      <td>3.933333</td>\n",
       "      <td>4.0</td>\n",
       "      <td>3.538461</td>\n",
       "      <td>3.865854</td>\n",
       "      <td>3.875</td>\n",
       "      <td>3.904762</td>\n",
       "      <td>4.666667</td>\n",
       "      <td>NaN</td>\n",
       "    </tr>\n",
       "  </tbody>\n",
       "</table>\n",
       "<p>1 rows × 39 columns</p>\n",
       "</div>"
      ],
      "text/plain": [
       "  USER_ID MOVIE_ID  MOVIE_GENRE_INFO__IS_ACTION  \\\n",
       "0  102329     3114                            0   \n",
       "\n",
       "   MOVIE_GENRE_INFO__IS_ADVENTURE  MOVIE_GENRE_INFO__IS_ANIMATION  \\\n",
       "0                               1                               1   \n",
       "\n",
       "   MOVIE_GENRE_INFO__IS_CHILDREN  MOVIE_GENRE_INFO__IS_COMEDY  \\\n",
       "0                              1                            1   \n",
       "\n",
       "   MOVIE_GENRE_INFO__IS_CRIME  MOVIE_GENRE_INFO__IS_DOCUMENTARY  \\\n",
       "0                           0                                 0   \n",
       "\n",
       "   MOVIE_GENRE_INFO__IS_DRAMA  ...  \\\n",
       "0                           0  ...   \n",
       "\n",
       "   USER_FANTASY_RATING_HISTORY__RATING_MEAN_730D_1D  \\\n",
       "0                                          3.714286   \n",
       "\n",
       "   USER_FILM_NOIR_RATING_HISTORY__RATING_MEAN_730D_1D  \\\n",
       "0                                                NaN    \n",
       "\n",
       "   USER_HORROR_RATING_HISTORY__RATING_MEAN_730D_1D  \\\n",
       "0                                         3.933333   \n",
       "\n",
       "   USER_MUSICAL_RATING_HISTORY__RATING_MEAN_730D_1D  \\\n",
       "0                                               4.0   \n",
       "\n",
       "   USER_MYSTERY_RATING_HISTORY__RATING_MEAN_730D_1D  \\\n",
       "0                                          3.538461   \n",
       "\n",
       "   USER_ROMANCE_RATING_HISTORY__RATING_MEAN_730D_1D  \\\n",
       "0                                          3.865854   \n",
       "\n",
       "   USER_SCI_FI_RATING_HISTORY__RATING_MEAN_730D_1D  \\\n",
       "0                                            3.875   \n",
       "\n",
       "   USER_THRILLER_RATING_HISTORY__RATING_MEAN_730D_1D  \\\n",
       "0                                           3.904762   \n",
       "\n",
       "   USER_WAR_RATING_HISTORY__RATING_MEAN_730D_1D  \\\n",
       "0                                      4.666667   \n",
       "\n",
       "   USER_WESTERN_RATING_HISTORY__RATING_MEAN_730D_1D  \n",
       "0                                               NaN  \n",
       "\n",
       "[1 rows x 39 columns]"
      ]
     },
     "execution_count": 8,
     "metadata": {},
     "output_type": "execute_result"
    }
   ],
   "source": [
    "test_df = pickle.load(open('inference_df.p', 'rb'))\n",
    "movie_ids = list(test_df.MOVIE_ID.values)\n",
    "test_df.head(1)"
   ]
  },
  {
   "cell_type": "markdown",
   "metadata": {},
   "source": [
    "## Test Inference"
   ]
  },
  {
   "cell_type": "code",
   "execution_count": 9,
   "metadata": {},
   "outputs": [],
   "source": [
    "predictions = get_predictions(test_df)['predictions']"
   ]
  },
  {
   "cell_type": "code",
   "execution_count": 10,
   "metadata": {},
   "outputs": [
    {
     "data": {
      "text/html": [
       "<div>\n",
       "<style scoped>\n",
       "    .dataframe tbody tr th:only-of-type {\n",
       "        vertical-align: middle;\n",
       "    }\n",
       "\n",
       "    .dataframe tbody tr th {\n",
       "        vertical-align: top;\n",
       "    }\n",
       "\n",
       "    .dataframe thead th {\n",
       "        text-align: right;\n",
       "    }\n",
       "</style>\n",
       "<table border=\"1\" class=\"dataframe\">\n",
       "  <thead>\n",
       "    <tr style=\"text-align: right;\">\n",
       "      <th></th>\n",
       "      <th>Movie</th>\n",
       "      <th>Predicted Score</th>\n",
       "    </tr>\n",
       "  </thead>\n",
       "  <tbody>\n",
       "    <tr>\n",
       "      <th>0</th>\n",
       "      <td>Toy Story 2 (1999)</td>\n",
       "      <td>4.327136</td>\n",
       "    </tr>\n",
       "    <tr>\n",
       "      <th>1</th>\n",
       "      <td>Toy Story 3 (2010)</td>\n",
       "      <td>4.430651</td>\n",
       "    </tr>\n",
       "    <tr>\n",
       "      <th>2</th>\n",
       "      <td>Monsters, Inc. (2001)</td>\n",
       "      <td>4.461756</td>\n",
       "    </tr>\n",
       "    <tr>\n",
       "      <th>3</th>\n",
       "      <td>Finding Nemo (2003)</td>\n",
       "      <td>4.293376</td>\n",
       "    </tr>\n",
       "    <tr>\n",
       "      <th>4</th>\n",
       "      <td>Lion King, The (1994)</td>\n",
       "      <td>4.454514</td>\n",
       "    </tr>\n",
       "    <tr>\n",
       "      <th>5</th>\n",
       "      <td>Incredibles, The (2004)</td>\n",
       "      <td>4.485878</td>\n",
       "    </tr>\n",
       "    <tr>\n",
       "      <th>6</th>\n",
       "      <td>Up (2009)</td>\n",
       "      <td>4.474195</td>\n",
       "    </tr>\n",
       "    <tr>\n",
       "      <th>7</th>\n",
       "      <td>Shrek (2001)</td>\n",
       "      <td>4.335835</td>\n",
       "    </tr>\n",
       "    <tr>\n",
       "      <th>8</th>\n",
       "      <td>Aladdin (1992)</td>\n",
       "      <td>4.464612</td>\n",
       "    </tr>\n",
       "    <tr>\n",
       "      <th>9</th>\n",
       "      <td>Jurassic Park (1993)</td>\n",
       "      <td>4.291188</td>\n",
       "    </tr>\n",
       "  </tbody>\n",
       "</table>\n",
       "</div>"
      ],
      "text/plain": [
       "                     Movie  Predicted Score\n",
       "0       Toy Story 2 (1999)         4.327136\n",
       "1       Toy Story 3 (2010)         4.430651\n",
       "2    Monsters, Inc. (2001)         4.461756\n",
       "3      Finding Nemo (2003)         4.293376\n",
       "4    Lion King, The (1994)         4.454514\n",
       "5  Incredibles, The (2004)         4.485878\n",
       "6                Up (2009)         4.474195\n",
       "7             Shrek (2001)         4.335835\n",
       "8           Aladdin (1992)         4.464612\n",
       "9     Jurassic Park (1993)         4.291188"
      ]
     },
     "execution_count": 10,
     "metadata": {},
     "output_type": "execute_result"
    }
   ],
   "source": [
    "movieid2title = pickle.load(open(\"movieid2title.p\", \"rb\"))\n",
    "titles = [movieid2title[int(mid)] for mid in movie_ids]\n",
    "pd.DataFrame({'Movie': titles, 'Predicted Score': predictions})"
   ]
  },
  {
   "cell_type": "code",
   "execution_count": null,
   "metadata": {},
   "outputs": [],
   "source": []
  }
 ],
 "metadata": {
  "kernelspec": {
   "display_name": "apply-2022-demo",
   "language": "python",
   "name": "apply-demo-2022"
  },
  "language_info": {
   "codemirror_mode": {
    "name": "ipython",
    "version": 3
   },
   "file_extension": ".py",
   "mimetype": "text/x-python",
   "name": "python",
   "nbconvert_exporter": "python",
   "pygments_lexer": "ipython3",
   "version": "3.8.10"
  }
 },
 "nbformat": 4,
 "nbformat_minor": 4
}
