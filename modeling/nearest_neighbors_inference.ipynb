{
 "cells": [
  {
   "cell_type": "markdown",
   "metadata": {},
   "source": [
    "# Using our Approximate Nearest Neighbor Model to pre-compute candidates"
   ]
  },
  {
   "cell_type": "code",
   "execution_count": 1,
   "metadata": {},
   "outputs": [],
   "source": [
    "from annoy import AnnoyIndex\n",
    "import pandas as pd"
   ]
  },
  {
   "cell_type": "code",
   "execution_count": 2,
   "metadata": {},
   "outputs": [
    {
     "data": {
      "text/plain": [
       "True"
      ]
     },
     "execution_count": 2,
     "metadata": {},
     "output_type": "execute_result"
    }
   ],
   "source": [
    "t = AnnoyIndex(19019, 'angular')\n",
    "t.load('movies.ann')"
   ]
  },
  {
   "cell_type": "code",
   "execution_count": 3,
   "metadata": {},
   "outputs": [],
   "source": [
    "in_movies = pd.read_parquet('training_data/movielens_25m_5_5.parquet').MOVIE_ID.unique()"
   ]
  },
  {
   "cell_type": "code",
   "execution_count": 4,
   "metadata": {},
   "outputs": [],
   "source": [
    "movies = pd.read_parquet('dataset/ml-25m/cleaned/movies.pq')\n",
    "id2title = {}\n",
    "ids = list(movies.movieId)\n",
    "titles = list(movies.title)\n",
    "for i,id in enumerate(ids):\n",
    "    id2title[id] = titles[i]"
   ]
  },
  {
   "cell_type": "code",
   "execution_count": 8,
   "metadata": {},
   "outputs": [
    {
     "name": "stdout",
     "output_type": "stream",
     "text": [
      "Toy Story (1995), (1)\n",
      "Toy Story 2 (1999), (3114)\n",
      "Toy Story 3 (2010), (78499)\n",
      "Monsters, Inc. (2001), (4886)\n",
      "Finding Nemo (2003), (6377)\n",
      "Lion King, The (1994), (364)\n",
      "Incredibles, The (2004), (8961)\n",
      "Up (2009), (68954)\n",
      "Shrek (2001), (4306)\n",
      "Aladdin (1992), (588)\n"
     ]
    }
   ],
   "source": [
    "def get_nn(movie_id, k=100):\n",
    "    return t.get_nns_by_item(movie_id,k)\n",
    "        \n",
    "def print_movie_titles(movies):\n",
    "    for m in movies:\n",
    "        print(f\"{id2title[m]}, ({m})\")\n",
    "        \n",
    "nn = get_nn(1, k=10)\n",
    "print_movie_titles(nn)"
   ]
  },
  {
   "cell_type": "markdown",
   "metadata": {},
   "source": [
    "## Compute nearest neighbors for every movie"
   ]
  },
  {
   "cell_type": "code",
   "execution_count": null,
   "metadata": {},
   "outputs": [],
   "source": [
    "from tqdm import tqdm\n",
    "preds = {}\n",
    "for m in tqdm(list(in_movies)):\n",
    "    preds[m] = get_nn(int(m),k=100)"
   ]
  },
  {
   "cell_type": "code",
   "execution_count": null,
   "metadata": {},
   "outputs": [],
   "source": [
    "import pickle\n",
    "pickle.dump(preds, open('movie_nearest_neighbors.p', 'wb'))"
   ]
  },
  {
   "cell_type": "code",
   "execution_count": null,
   "metadata": {},
   "outputs": [],
   "source": [
    "movie_ids = []\n",
    "nns = []\n",
    "for k in preds:\n",
    "    movie_ids.append(k)\n",
    "    nns.append(preds[k])\n",
    "    "
   ]
  },
  {
   "cell_type": "markdown",
   "metadata": {},
   "source": [
    "## Load nearest neighbors into Snowflake"
   ]
  },
  {
   "cell_type": "code",
   "execution_count": null,
   "metadata": {},
   "outputs": [],
   "source": [
    "from datetime import datetime\n",
    "data = pd.DataFrame({'MOVIE_ID': movie_ids, 'NEAREST_NEIGHBORS': nns, 'CREATED_AT': [datetime.now()] * len(movie_ids)})"
   ]
  },
  {
   "cell_type": "code",
   "execution_count": null,
   "metadata": {},
   "outputs": [],
   "source": [
    "import snowflake.connector\n",
    "from dotenv import load_dotenv\n",
    "import os\n",
    "from snowflake.connector.pandas_tools import write_pandas\n",
    "\n",
    "load_dotenv()  # take environment variables from .env.\n",
    "\n",
    "connection_parameters = {\n",
    "    \"user\": os.environ['SNOWFLAKE_USER'],\n",
    "    \"password\": os.environ['SNOWFLAKE_PASSWORD'],\n",
    "    \"account\": os.environ['SNOWFLAKE_ACCOUNT'],\n",
    "    \"warehouse\": \"DEMO_WH\",\n",
    "    # Database and schema are required to create various temporary objects by tecton\n",
    "    \"database\": \"TECTON\",\n",
    "    \"schema\": \"PUBLIC\",\n",
    "}\n",
    "conn = snowflake.connector.connect(**connection_parameters)"
   ]
  },
  {
   "cell_type": "code",
   "execution_count": null,
   "metadata": {},
   "outputs": [],
   "source": [
    "write_pandas(conn, data, \"MOVIE_NEAREST_NEIGHBORS\", database='DEV_DAVID', schema=\"MOVIELENS_25M\")"
   ]
  },
  {
   "cell_type": "code",
   "execution_count": null,
   "metadata": {},
   "outputs": [],
   "source": []
  }
 ],
 "metadata": {
  "kernelspec": {
   "display_name": "apply-2022-demo",
   "language": "python",
   "name": "apply-demo-2022"
  },
  "language_info": {
   "codemirror_mode": {
    "name": "ipython",
    "version": 3
   },
   "file_extension": ".py",
   "mimetype": "text/x-python",
   "name": "python",
   "nbconvert_exporter": "python",
   "pygments_lexer": "ipython3",
   "version": "3.8.10"
  }
 },
 "nbformat": 4,
 "nbformat_minor": 4
}
